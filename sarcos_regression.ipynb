{
 "cells": [
  {
   "cell_type": "markdown",
   "id": "9c5e2427",
   "metadata": {},
   "source": [
    "# FML - Winter Semester 2024"
   ]
  },
  {
   "cell_type": "markdown",
   "id": "d050a081-4f6e-4d46-9e41-92b597092f11",
   "metadata": {
    "deletable": false,
    "editable": false,
    "nbgrader": {
     "cell_type": "markdown",
     "checksum": "d6cb0f4ab54ca49f1d45f1fa5b23eb6e",
     "grade": false,
     "grade_id": "cell-83a8d60fc28e19ed",
     "locked": true,
     "schema_version": 3,
     "solution": false,
     "task": false
    }
   },
   "source": [
    "# Bonus Points Assignment 1\n",
    "\n",
    "<div style=\"text-align: right;font-size: 0.8em\">Document Version 1.0.0</div>\n",
    "For detailed task instructions, please refer to the assignment PDF.\n",
    "\n",
    "This assignment requires `numpy`, `matplotlib`, `scikit-learn`, and `scipy` to run. If one of these imports fails, please install the corresponding library and make sure that you have activated the corresponding virtual environment. If the problem persists, please seek help on the forums or use [the JupyterHub profile of the lecture](https://jupyter.rwth-aachen.de/hub/spawn)."
   ]
  },
  {
   "cell_type": "code",
   "execution_count": 3,
   "id": "086f98d2-1b56-4fa0-be59-19828f9de624",
   "metadata": {
    "deletable": false,
    "editable": false,
    "nbgrader": {
     "cell_type": "code",
     "checksum": "3ad80f71da41c367fd1cb1f634452948",
     "grade": false,
     "grade_id": "cell-1158b0b99cd8c79c",
     "locked": true,
     "schema_version": 3,
     "solution": false,
     "task": false
    }
   },
   "outputs": [
    {
     "name": "stdout",
     "output_type": "stream",
     "text": [
      "Looking for training data at: D:\\Desktop\\Python\\FML_WS24_BP1_v1\\data\\sarcos_inv.mat\n",
      "Training data exists: True\n",
      "Looking for test data at: D:\\Desktop\\Python\\FML_WS24_BP1_v1\\data\\sarcos_inv_test.mat\n",
      "Test data exists: True\n"
     ]
    }
   ],
   "source": [
    "from IPython.display import clear_output\n",
    "\n",
    "import numpy as np\n",
    "np.random.seed(1234)\n",
    "\n",
    "from pathlib import Path\n",
    "ROOT = Path().resolve()\n",
    "\n",
    "# This contains the path to the data / folder of the assignment\n",
    "# DO NOT change the path to the data. Only use data at this location.\n",
    "DATA = ROOT / 'data'\n",
    "DATA_TRAIN = DATA / \"sarcos_inv.mat\"\n",
    "DATA_TEST = DATA / \"sarcos_inv_test.mat\"\n",
    "\n",
    "print(f\"Looking for training data at: {DATA_TRAIN}\")\n",
    "print(f\"Training data exists: {DATA_TRAIN.exists()}\")\n",
    "print(f\"Looking for test data at: {DATA_TEST}\")\n",
    "print(f\"Test data exists: {DATA_TEST.exists()}\")"
   ]
  },
  {
   "cell_type": "markdown",
   "id": "57439d52-4b4d-4b20-8809-a2782603af5d",
   "metadata": {
    "deletable": false,
    "editable": false,
    "nbgrader": {
     "cell_type": "markdown",
     "checksum": "30ea5fae3dab440d5256c1aaaf5734ae",
     "grade": false,
     "grade_id": "cell-4f0f1766a084c844",
     "locked": true,
     "schema_version": 3,
     "solution": false,
     "task": false
    }
   },
   "source": [
    "Run the next cell to check that all data is at the correct location. Do not change the location of the data."
   ]
  },
  {
   "cell_type": "code",
   "execution_count": 4,
   "id": "bb5a6b78-57ff-42c4-826b-52f5e59a4974",
   "metadata": {
    "deletable": false,
    "editable": false,
    "nbgrader": {
     "cell_type": "code",
     "checksum": "4e938d06b19878fcc0ccec57a20f06c4",
     "grade": true,
     "grade_id": "test__check-data-location",
     "locked": true,
     "points": 0,
     "schema_version": 3,
     "solution": false,
     "task": false
    }
   },
   "outputs": [],
   "source": [
    "assert DATA_TRAIN.exists(), f\"Training data is missing.\"\n",
    "assert DATA_TEST.exists(), f\"Test data is missing.\""
   ]
  },
  {
   "cell_type": "markdown",
   "id": "185ed78b-a8b3-46c2-bfac-c04ffdbe40a1",
   "metadata": {
    "deletable": false,
    "editable": false,
    "nbgrader": {
     "cell_type": "markdown",
     "checksum": "a24016fecdc728d6a7e2f2edeb0f5397",
     "grade": false,
     "grade_id": "cell-5b3259230303ae8b",
     "locked": true,
     "schema_version": 3,
     "solution": false,
     "task": false
    }
   },
   "source": [
    "### Setup\n",
    "__Question 1.1__ Load the data into the following numpy arrays. For the output, only use the first torque variable.\n",
    "Randomly split the data from the file ```sarcos_inv.mat``` into a training set (80%) and a validation set (20%)."
   ]
  },
  {
   "cell_type": "code",
   "execution_count": 5,
   "id": "cc4ce05d-f496-47bb-8f96-ff224ae82c87",
   "metadata": {
    "deletable": false,
    "nbgrader": {
     "cell_type": "code",
     "checksum": "59ea3282da91e4e0f5ab10510df1d632",
     "grade": false,
     "grade_id": "cell-16029f4cf017b557",
     "locked": false,
     "schema_version": 3,
     "solution": true,
     "task": false
    }
   },
   "outputs": [],
   "source": [
    "import scipy.io  # Use scipy.io to import the data\n",
    "\n",
    "# First, load the data sets as numpy arrays\n",
    "# Then, split it appropriately in the following variables\n",
    "mat_data_train = scipy.io.loadmat(DATA_TRAIN)\n",
    "mat_data_test = scipy.io.loadmat(DATA_TEST)\n",
    "data_train = mat_data_train.get('sarcos_inv')\n",
    "data_test = mat_data_test.get('sarcos_inv_test')\n",
    "\n",
    "num_samples = data_train.shape[0]\n",
    "indices = np.random.permutation(num_samples)\n",
    "train_size = int(0.8 * num_samples)\n",
    "\n",
    "train_indices = indices[:train_size]\n",
    "val_indices = indices[train_size:]\n",
    "\n",
    "# Input and output training data\n",
    "xs_train =  data_train[train_indices,:21]\n",
    "ys_train = data_train[train_indices,21].reshape(-1, 1)\n",
    "\n",
    "# Input and output validation data\n",
    "xs_valid = data_train[val_indices,:21]\n",
    "ys_valid = data_train[val_indices,21].reshape(-1, 1)\n",
    "\n",
    "# Input and output test data\n",
    "xs_test =  data_test[:,:21]\n",
    "ys_test = data_test[:,21].reshape(-1, 1)\n"
   ]
  },
  {
   "cell_type": "markdown",
   "id": "f1c2443d-2de0-448d-985f-349f641ce392",
   "metadata": {
    "deletable": false,
    "editable": false,
    "nbgrader": {
     "cell_type": "markdown",
     "checksum": "42ed9114034039321bd335253ed81f07",
     "grade": false,
     "grade_id": "cell-05e691c4a71f475a",
     "locked": true,
     "schema_version": 3,
     "solution": false,
     "task": false
    }
   },
   "source": [
    "Run the following cell to make sure that your data has the right shapes."
   ]
  },
  {
   "cell_type": "code",
   "execution_count": 6,
   "id": "1d6bdbaf-8352-485e-b542-f06a984039ea",
   "metadata": {
    "deletable": false,
    "editable": false,
    "nbgrader": {
     "cell_type": "code",
     "checksum": "20d8fa1a08684ff2f59ee1b68f4c1e19",
     "grade": true,
     "grade_id": "test__data-loading-sanity-checks",
     "locked": true,
     "points": 1,
     "schema_version": 3,
     "solution": false,
     "task": false
    }
   },
   "outputs": [],
   "source": [
    "assert xs_train.shape == (35587, 21), \"xs_train should contain 35587 21-dimensional data points\"\n",
    "assert ys_train.shape == (35587, 1), \"ys_train should contain 35587 1-dimensional data points\"\n",
    "assert xs_valid.shape == (8897, 21), \"xs_valid should contain 8897 21-dimensional data points\"\n",
    "assert ys_valid.shape == (8897, 1), \"ys_valid should contain 8897 1-dimensional data points\"\n",
    "assert xs_test.shape == (4449, 21), \"xs_test should contain 4449 21-dimensional data points\"\n",
    "assert ys_test.shape == (4449, 1), \"ys_test should contain 4449 1-dimensional data points\"\n",
    "clear_output()"
   ]
  },
  {
   "cell_type": "code",
   "execution_count": 7,
   "id": "197d700b-d188-4759-8d3e-c0c4eb4df94b",
   "metadata": {
    "deletable": false,
    "editable": false,
    "nbgrader": {
     "cell_type": "code",
     "checksum": "6a9fdf7a1be797ba6a9f1f51828b4a3c",
     "grade": true,
     "grade_id": "test__data-order",
     "locked": true,
     "points": 1,
     "schema_version": 3,
     "solution": false,
     "task": false
    }
   },
   "outputs": [],
   "source": [
    "# Used for grading. Do not change."
   ]
  },
  {
   "cell_type": "markdown",
   "id": "c9f62259-f3b0-4ad4-b7f4-495102d37ff2",
   "metadata": {
    "deletable": false,
    "editable": false,
    "nbgrader": {
     "cell_type": "markdown",
     "checksum": "3b4a98985a01da945c94e64a15691a66",
     "grade": false,
     "grade_id": "cell-a951637549915c50",
     "locked": true,
     "schema_version": 3,
     "solution": false,
     "task": false
    }
   },
   "source": [
    "__Question 1.2__ Implement `my_variance` and `my_mse`."
   ]
  },
  {
   "cell_type": "code",
   "execution_count": 8,
   "id": "422e655c-09f8-40cd-812c-6a38f0482b46",
   "metadata": {
    "deletable": false,
    "nbgrader": {
     "cell_type": "code",
     "checksum": "8f9ccec7aea25f8b17d243b22795c0bf",
     "grade": false,
     "grade_id": "cell-5ac0e8d605a50671",
     "locked": false,
     "schema_version": 3,
     "solution": true,
     "task": false
    }
   },
   "outputs": [],
   "source": [
    "def my_variance(xs: np.ndarray) -> np.ndarray:\n",
    "    \"\"\" Computes the sample variance of a given vector of scalars\n",
    "    \n",
    "    Args:\n",
    "        xs: 1D numpy array containing scalars\n",
    "    \n",
    "    Returns:\n",
    "        The empirical variance of the provided vector as a float\n",
    "    \"\"\"\n",
    "    # YOUR CODE HERE\n",
    "   \n",
    "    mean = np.mean(xs)\n",
    "   \n",
    "    variance = np.mean((xs-mean)**2)\n",
    "\n",
    "    return variance\n",
    "\n",
    "   "
   ]
  },
  {
   "cell_type": "markdown",
   "id": "5fa1d149-615f-4c69-ad8b-d681be448546",
   "metadata": {
    "deletable": false,
    "editable": false,
    "nbgrader": {
     "cell_type": "markdown",
     "checksum": "5c0b209f11879dbd0986b2d86f5b2117",
     "grade": false,
     "grade_id": "cell-ac1bec4830059a9e",
     "locked": true,
     "schema_version": 3,
     "solution": false,
     "task": false
    }
   },
   "source": [
    "Run the following cell to make sure that your function gives the correct sample variance in simple cases."
   ]
  },
  {
   "cell_type": "code",
   "execution_count": 9,
   "id": "2682ab41-4b56-45a9-bfb0-d66687762f58",
   "metadata": {
    "deletable": false,
    "editable": false,
    "nbgrader": {
     "cell_type": "code",
     "checksum": "a60a249053c1153b9518a6389e3257d9",
     "grade": true,
     "grade_id": "test__variance-1",
     "locked": true,
     "points": 1,
     "schema_version": 3,
     "solution": false,
     "task": false
    }
   },
   "outputs": [],
   "source": [
    "assert np.isclose(my_variance(np.array([1, 1, 1])), 0), \"Variance of this vector should be 0.\"\n",
    "assert np.isclose(my_variance(np.array([1, 2, 3, 4, 5])), 2), \"Variance of this vector should be 2.\"\n",
    "clear_output()"
   ]
  },
  {
   "cell_type": "code",
   "execution_count": 10,
   "id": "446251ba-1432-4451-a7ae-82c1fec2b742",
   "metadata": {
    "deletable": false,
    "editable": false,
    "nbgrader": {
     "cell_type": "code",
     "checksum": "b0a817dd1460702741a415569e93cdc3",
     "grade": true,
     "grade_id": "test__variance-2",
     "locked": true,
     "points": 1,
     "schema_version": 3,
     "solution": false,
     "task": false
    }
   },
   "outputs": [],
   "source": [
    "# Used for grading. Do not change."
   ]
  },
  {
   "cell_type": "code",
   "execution_count": 11,
   "id": "d21d9494-fd38-4452-b4b2-d72f88bba177",
   "metadata": {
    "deletable": false,
    "editable": false,
    "nbgrader": {
     "cell_type": "code",
     "checksum": "bf6283e82298381687dbb873ea4918f4",
     "grade": true,
     "grade_id": "test__variance-3",
     "locked": true,
     "points": 1,
     "schema_version": 3,
     "solution": false,
     "task": false
    }
   },
   "outputs": [],
   "source": [
    "# Used for grading. Do not change."
   ]
  },
  {
   "cell_type": "markdown",
   "id": "38a3dec6-ed0e-4914-a2ab-d4da2b329eb3",
   "metadata": {
    "deletable": false,
    "editable": false,
    "nbgrader": {
     "cell_type": "markdown",
     "checksum": "57b7cf817b07b4cc7d1f8147862cedef",
     "grade": false,
     "grade_id": "cell-41851a5fd88339c3",
     "locked": true,
     "schema_version": 3,
     "solution": false,
     "task": false
    }
   },
   "source": [
    "Now, implement the MSE function."
   ]
  },
  {
   "cell_type": "code",
   "execution_count": 12,
   "id": "203ff8f2-459b-4eb7-a9bd-6e4f03e567ba",
   "metadata": {
    "deletable": false,
    "nbgrader": {
     "cell_type": "code",
     "checksum": "5106f9c6f7465efd15e540ea072000c0",
     "grade": false,
     "grade_id": "cell-d2129a119bd236e1",
     "locked": false,
     "schema_version": 3,
     "solution": true,
     "task": false
    }
   },
   "outputs": [],
   "source": [
    "def my_mse(z1: np.ndarray, z2: np.ndarray):\n",
    "    \"\"\" Computes the Mean Squared Error (MSE)\n",
    "    \n",
    "    Args:\n",
    "        z1: A 1D numpy array (usually the predictions).\n",
    "        z2: Another 1D numpy array.\n",
    "    \n",
    "    Returns\n",
    "        The MSE of the given data.\n",
    "    \"\"\"\n",
    "    # YOUR CODE HERE\n",
    "     \n",
    "    return np.mean((z1-z2)**2)\n",
    "\n",
    "\n",
    "   # raise NotImplementedError()"
   ]
  },
  {
   "cell_type": "markdown",
   "id": "fc241d07-4a16-4d72-9c5a-e9d7adc477ed",
   "metadata": {
    "deletable": false,
    "editable": false,
    "nbgrader": {
     "cell_type": "markdown",
     "checksum": "7fcef138562075c4cb54670a23d55c18",
     "grade": false,
     "grade_id": "cell-482fd1ac4189bef7",
     "locked": true,
     "schema_version": 3,
     "solution": false,
     "task": false
    }
   },
   "source": [
    "Run the following cell to make sure that your function gives the correct MSE in simple cases."
   ]
  },
  {
   "cell_type": "code",
   "execution_count": 13,
   "id": "dcd342a5-8677-4787-878d-c5df3ae91e9a",
   "metadata": {
    "deletable": false,
    "editable": false,
    "nbgrader": {
     "cell_type": "code",
     "checksum": "78e2cdd5038ecc21d085450aaf425bcd",
     "grade": true,
     "grade_id": "test__mse-1",
     "locked": true,
     "points": 1,
     "schema_version": 3,
     "solution": false,
     "task": false
    }
   },
   "outputs": [],
   "source": [
    "assert np.isclose(my_mse(np.array([3.0]), np.array([4.0])), 1), \"The MSE between 3 and 4 should be 1.\"\n",
    "assert np.isclose(my_mse(np.array([1, 2, 3, 4]), np.array([1, 2, 3, 4])), 0), \"The MSE should be 0 for identical z vectors.\"\n",
    "clear_output()"
   ]
  },
  {
   "cell_type": "code",
   "execution_count": 14,
   "id": "4b319884-8bee-4aea-85d9-749925c958a7",
   "metadata": {
    "deletable": false,
    "editable": false,
    "nbgrader": {
     "cell_type": "code",
     "checksum": "aa913d68e4e6961bd1fcb6db9b988011",
     "grade": true,
     "grade_id": "test__mse-2",
     "locked": true,
     "points": 1,
     "schema_version": 3,
     "solution": false,
     "task": false
    }
   },
   "outputs": [],
   "source": [
    "# Used for grading. Do not change."
   ]
  },
  {
   "cell_type": "markdown",
   "id": "0c9ca186-293e-49f5-8a35-d5787423ecf3",
   "metadata": {
    "deletable": false,
    "editable": false,
    "nbgrader": {
     "cell_type": "markdown",
     "checksum": "9f7e6882d8396bde87a5cecb1ea2f609",
     "grade": false,
     "grade_id": "cell-2e2e87461ab7c684",
     "locked": true,
     "schema_version": 3,
     "solution": false,
     "task": false
    }
   },
   "source": [
    "__Question 1.3__ Standardize the dataset you loaded earlier."
   ]
  },
  {
   "cell_type": "code",
   "execution_count": 15,
   "id": "2df2926c-f5b2-4444-af5c-900c9cf72140",
   "metadata": {
    "deletable": false,
    "nbgrader": {
     "cell_type": "code",
     "checksum": "ae728daf01222a48b10d06f1f4f2bb5d",
     "grade": false,
     "grade_id": "cell-a25cd147aa842cb5",
     "locked": false,
     "schema_version": 3,
     "solution": true,
     "task": false
    }
   },
   "outputs": [],
   "source": [
    "xs_train_std = (xs_train - np.mean(xs_train, axis=0))/np.std(xs_train, axis=0)\n",
    "ys_train_std = ys_train - (np.mean(ys_train))\n",
    "xs_valid_std = (xs_valid - np.mean(xs_valid, axis=0))/np.std(xs_valid, axis=0)\n",
    "ys_valid_std = ys_valid - (np.mean(ys_valid))\n",
    "xs_test_std = (xs_test - np.mean(xs_test, axis=0))/np.std(xs_test, axis=0)\n",
    "ys_test_std = ys_test - (np.mean(ys_test))\n",
    "# YOUR CODE HERE\n",
    "#raise NotImplementedError()"
   ]
  },
  {
   "cell_type": "markdown",
   "id": "969f0b88-f57a-4b5f-8fa0-2844400909b5",
   "metadata": {
    "deletable": false,
    "editable": false,
    "nbgrader": {
     "cell_type": "markdown",
     "checksum": "92f0a97a2ee524db23274cb4c69c313a",
     "grade": false,
     "grade_id": "cell-e0fe8b00d6f62a22",
     "locked": true,
     "schema_version": 3,
     "solution": false,
     "task": false
    }
   },
   "source": [
    "Run the following cell to make sure that your standardization does not change the data shapes."
   ]
  },
  {
   "cell_type": "code",
   "execution_count": 16,
   "id": "34b3138e-501d-40ad-8f52-9a5d71a96bb1",
   "metadata": {
    "deletable": false,
    "editable": false,
    "nbgrader": {
     "cell_type": "code",
     "checksum": "51a8b09828be8e54e77bba7d6c288bdc",
     "grade": true,
     "grade_id": "test__normalization-sanity-check-1",
     "locked": true,
     "points": 1,
     "schema_version": 3,
     "solution": false,
     "task": false
    }
   },
   "outputs": [],
   "source": [
    "assert xs_train_std.shape == xs_train.shape, \"Normalizing is not supposed to change the shape of your data.\"\n",
    "assert ys_train_std.shape == ys_train.shape, \"Normalizing is not supposed to change the shape of your data.\"\n",
    "assert xs_valid_std.shape == xs_valid.shape, \"Normalizing is not supposed to change the shape of your data.\"\n",
    "assert ys_valid_std.shape == ys_valid.shape, \"Normalizing is not supposed to change the shape of your data.\"\n",
    "assert xs_test_std.shape == xs_test.shape, \"Normalizing is not supposed to change the shape of your data.\"\n",
    "assert ys_test_std.shape == ys_test.shape, \"Normalizing is not supposed to change the shape of your data.\"\n",
    "clear_output()"
   ]
  },
  {
   "cell_type": "markdown",
   "id": "d668b3e9-8e33-41df-9e4c-6d7b09051e2f",
   "metadata": {
    "deletable": false,
    "editable": false,
    "nbgrader": {
     "cell_type": "markdown",
     "checksum": "2bd1f39a16e55777c2fd4cefd9eec679",
     "grade": false,
     "grade_id": "cell-e67f0a7dba77333e",
     "locked": true,
     "schema_version": 3,
     "solution": false,
     "task": false
    }
   },
   "source": [
    "Use the following checks to make sure that the training data has mean 0 and variance 1 after standardizing."
   ]
  },
  {
   "cell_type": "code",
   "execution_count": 17,
   "id": "882ad91b-3e88-4d93-9440-d5323c6b3d5c",
   "metadata": {
    "deletable": false,
    "editable": false,
    "nbgrader": {
     "cell_type": "code",
     "checksum": "9265d53dfc02712fd4681b7ccd8f8fd8",
     "grade": true,
     "grade_id": "test__normalization-sanity-check-2",
     "locked": true,
     "points": 1,
     "schema_version": 3,
     "solution": false,
     "task": false
    }
   },
   "outputs": [],
   "source": [
    "assert np.isclose(np.mean(xs_train_std), 0, atol=0.005), \"Training inputs mean should be 0\"\n",
    "assert np.isclose(np.mean(ys_train_std), 0, atol=0.005), \"Training outputs mean should be 0\"\n",
    "assert np.allclose(np.var(xs_train_std, axis=0), 1, atol=0.005), \"Training inputs variance should be 1\"\n",
    "clear_output()"
   ]
  },
  {
   "cell_type": "code",
   "execution_count": 18,
   "id": "c24dd2e1-9d5a-4086-82ba-bde5c335282c",
   "metadata": {
    "deletable": false,
    "editable": false,
    "nbgrader": {
     "cell_type": "code",
     "checksum": "0fbc2b87ea5f2bdb6e5a619894358e34",
     "grade": true,
     "grade_id": "test__normalization-1",
     "locked": true,
     "points": 1,
     "schema_version": 3,
     "solution": false,
     "task": false
    }
   },
   "outputs": [],
   "source": [
    "# Used for grading. Do not change."
   ]
  },
  {
   "cell_type": "code",
   "execution_count": 19,
   "id": "1d5b8dd8-ced8-410a-92ed-b85262e4db7d",
   "metadata": {
    "deletable": false,
    "editable": false,
    "nbgrader": {
     "cell_type": "code",
     "checksum": "7683576f83d0e60d329f9317cf64c094",
     "grade": true,
     "grade_id": "test__normalization-2",
     "locked": true,
     "points": 1,
     "schema_version": 3,
     "solution": false,
     "task": false
    }
   },
   "outputs": [],
   "source": [
    "# Used for grading. Do not change."
   ]
  },
  {
   "cell_type": "code",
   "execution_count": 20,
   "id": "e8bb731f-0ad1-4990-88a0-3b0ea95e3a0a",
   "metadata": {
    "deletable": false,
    "editable": false,
    "nbgrader": {
     "cell_type": "code",
     "checksum": "f17b4705204e14aa56d0f40776bfa2de",
     "grade": true,
     "grade_id": "test__normalization-3",
     "locked": true,
     "points": 1,
     "schema_version": 3,
     "solution": false,
     "task": false
    }
   },
   "outputs": [],
   "source": [
    "# Used for grading. Do not change."
   ]
  },
  {
   "cell_type": "code",
   "execution_count": 21,
   "id": "c7e8c649-67be-4ee6-8aed-6b82c3c56391",
   "metadata": {
    "deletable": false,
    "editable": false,
    "nbgrader": {
     "cell_type": "code",
     "checksum": "490a056a7ae76c1930f3975bc099dd17",
     "grade": true,
     "grade_id": "test__normalization-4",
     "locked": true,
     "points": 1,
     "schema_version": 3,
     "solution": false,
     "task": false
    }
   },
   "outputs": [],
   "source": [
    "# Used for grading. Do not change."
   ]
  },
  {
   "cell_type": "markdown",
   "id": "ebc0852e-6b00-4dfb-b7f6-283fa37507b1",
   "metadata": {
    "deletable": false,
    "editable": false,
    "nbgrader": {
     "cell_type": "markdown",
     "checksum": "1fd33aa5b1eee27ff06718d8610d9d01",
     "grade": false,
     "grade_id": "cell-a0604dcc4d37f92d",
     "locked": true,
     "schema_version": 3,
     "solution": false,
     "task": false
    }
   },
   "source": [
    "## Linear regression\n",
    "### Simple linear regression\n",
    "__Question 1.4__ Implement a function that performs linear regression given input data and target values."
   ]
  },
  {
   "cell_type": "code",
   "execution_count": 22,
   "id": "d55d2941-9137-4e4c-9959-22d66438c12b",
   "metadata": {
    "deletable": false,
    "nbgrader": {
     "cell_type": "code",
     "checksum": "5ded15befce8c079f586d9a7cbe78a6f",
     "grade": false,
     "grade_id": "cell-0ff748a092ddcaa6",
     "locked": false,
     "schema_version": 3,
     "solution": true,
     "task": false
    }
   },
   "outputs": [],
   "source": [
    "def my_linear_regression(phi: np.ndarray, ys: np.ndarray) -> np.ndarray:\n",
    "    \"\"\" Computes the weights of a linear regression that fits the given data.\n",
    "    \n",
    "    Notes:\n",
    "        You may use np.linalg.solve to solve a system of linear equations.\n",
    "    \n",
    "    Args:\n",
    "        phi: Input feature matrix of shape (N, D) containing N samples of dimension D.\n",
    "        ys: Target outputs of shape (N, 1) containing N 1-dimensional samples.\n",
    "        \n",
    "    Returns:\n",
    "        A numpy array containing the regressed weights of shape (D, 1), containing one weight for each input dimension.\n",
    "    \"\"\"\n",
    "    # YOUR CODE HERE\n",
    "\n",
    "    weight = np.linalg.inv(phi.T@phi)@phi.T@ys\n",
    "    return weight\n",
    "    \n",
    "    #raise NotImplementedError()"
   ]
  },
  {
   "cell_type": "markdown",
   "id": "c6cacc93-bf70-4f3a-b2e0-c5e8e81dd2ed",
   "metadata": {
    "deletable": false,
    "editable": false,
    "nbgrader": {
     "cell_type": "markdown",
     "checksum": "eb04b9cc257036282348881389c95d5d",
     "grade": false,
     "grade_id": "cell-9d37b2631b50a0e7",
     "locked": true,
     "schema_version": 3,
     "solution": false,
     "task": false
    }
   },
   "source": [
    "Run the following cell to make sure your weights have the correct shape."
   ]
  },
  {
   "cell_type": "code",
   "execution_count": 23,
   "id": "f8e393dd-8ec5-4a11-9f49-6e86f70e98d6",
   "metadata": {
    "deletable": false,
    "editable": false,
    "nbgrader": {
     "cell_type": "code",
     "checksum": "ce0a0835e97676e27b2e57acedbfeae3",
     "grade": true,
     "grade_id": "test__linear-regression-sanity-check",
     "locked": true,
     "points": 1,
     "schema_version": 3,
     "solution": false,
     "task": false
    }
   },
   "outputs": [],
   "source": [
    "_my_weights = my_linear_regression(xs_train_std, ys_train_std)\n",
    "assert _my_weights.shape == (21, 1), \"Weights should have shape (D, 1).\"\n",
    "clear_output()"
   ]
  },
  {
   "cell_type": "markdown",
   "id": "fa5af5cc-3e75-4192-934b-8f4eee27f195",
   "metadata": {
    "deletable": false,
    "editable": false,
    "nbgrader": {
     "cell_type": "markdown",
     "checksum": "e0ec574512d71a515348ba325d8ec3f8",
     "grade": false,
     "grade_id": "cell-21813f66135cf603",
     "locked": true,
     "schema_version": 3,
     "solution": false,
     "task": false
    }
   },
   "source": [
    "If you implemented everything correctly so far, you should now get an MSE of roughly $31$. If your actual MSE deviates a lot from that, try to debug the code that you have written so far. Here you just have to run the cell below."
   ]
  },
  {
   "cell_type": "code",
   "execution_count": 24,
   "id": "3e3a3a4d-55e0-40fb-a74e-cbbe4aaadc5d",
   "metadata": {
    "deletable": false,
    "editable": false,
    "nbgrader": {
     "cell_type": "code",
     "checksum": "c367ff41ea400846ece6ecef6fc23496",
     "grade": false,
     "grade_id": "cell-65b559d6178d3de2",
     "locked": true,
     "schema_version": 3,
     "solution": false,
     "task": false
    }
   },
   "outputs": [
    {
     "name": "stdout",
     "output_type": "stream",
     "text": [
      "Your MSE should be roughly 31 and it is 31.56.\n"
     ]
    }
   ],
   "source": [
    "_my_y_valid_pred = xs_valid_std @ _my_weights\n",
    "_my_mse = my_mse(ys_valid_std, _my_y_valid_pred)\n",
    "print(f\"Your MSE should be roughly 31 and it is {_my_mse:.2f}.\")"
   ]
  },
  {
   "cell_type": "code",
   "execution_count": 25,
   "id": "0ad4294d-94a3-4f34-b31b-9ee13cac553c",
   "metadata": {
    "deletable": false,
    "editable": false,
    "nbgrader": {
     "cell_type": "code",
     "checksum": "c6cfa73693f111760c8467d0ec3dd4c3",
     "grade": true,
     "grade_id": "cell-e7e35ac0ad4ee9a8",
     "locked": true,
     "points": 1,
     "schema_version": 3,
     "solution": false,
     "task": false
    }
   },
   "outputs": [],
   "source": [
    "# Used for grading. Do not change."
   ]
  },
  {
   "cell_type": "markdown",
   "id": "8866d5fa-6284-43f9-a99f-d7fcb92bb944",
   "metadata": {
    "deletable": false,
    "editable": false,
    "nbgrader": {
     "cell_type": "markdown",
     "checksum": "89987adad2716cecadffc7adf7440ecf",
     "grade": false,
     "grade_id": "cell-faaba6efe74128bb",
     "locked": true,
     "schema_version": 3,
     "solution": false,
     "task": false
    }
   },
   "source": [
    "### Linear regression with polynomial features\n",
    "__Question 1.5__ Implement a function that computes non-repeating features of degree up to two."
   ]
  },
  {
   "cell_type": "code",
   "execution_count": 26,
   "id": "d6ed007b-58ea-410b-8132-0db5bebfff0f",
   "metadata": {
    "deletable": false,
    "nbgrader": {
     "cell_type": "code",
     "checksum": "4e6e649b3732332139b69ed2d376b5ed",
     "grade": false,
     "grade_id": "cell-1d5ce0a15c075ac2",
     "locked": false,
     "schema_version": 3,
     "solution": true,
     "task": false
    }
   },
   "outputs": [],
   "source": [
    "def my_quadratic_features(xs: np.ndarray) -> np.ndarray:\n",
    "    \"\"\" Generates polynomial features up to degree 2 from given data.\n",
    "    \n",
    "    The quadratic features should include monomials (i.e., x_i, x_i**2 etc)\n",
    "    and interaction terms (x_1*x_2 etc), but no repetitions (i.e. NOT both x_1*x_2 and x_2*x_1).\n",
    "    You should include a bias term.\n",
    "    The order of the samples should not be changed through the transformation.\n",
    "    \n",
    "    Args:\n",
    "        xs: A 2D numpy array of shape (N, D) containing N samples of dimension D.\n",
    "    \n",
    "    Returns:\n",
    "        An (N, M) numpy array containing the transformed input.\n",
    "    \"\"\"\n",
    "    # YOUR CODE HERE\n",
    "    N, D = xs.shape\n",
    "    transformed_features = []\n",
    "    transformed_features.extend(np.ones((1,N)))\n",
    "    transformed_features.extend(xs.T)\n",
    "    squared_features = np.power(xs, 2)\n",
    "\n",
    "    for i in range(D):\n",
    "        for j in range(i+1,D):       \n",
    "            interaction_term = xs[:, i] * xs[:, j]\n",
    "            transformed_features.append(interaction_term)\n",
    "          \n",
    "    transformed_features.extend(squared_features.T)\n",
    "    transformed_features = np.array(transformed_features).T\n",
    "\n",
    "    return transformed_features"
   ]
  },
  {
   "cell_type": "markdown",
   "id": "76e7d538-7bbf-4057-9873-56e6154c5c05",
   "metadata": {
    "deletable": false,
    "editable": false,
    "nbgrader": {
     "cell_type": "markdown",
     "checksum": "fa60dcbc5483b7102d8987dcfb846141",
     "grade": false,
     "grade_id": "cell-22a125de919cf690",
     "locked": true,
     "schema_version": 3,
     "solution": false,
     "task": false
    }
   },
   "source": [
    "Run the following cell checks to make sure that your function produces the correct number of features in simple cases."
   ]
  },
  {
   "cell_type": "code",
   "execution_count": 27,
   "id": "0fc3ff3e-5536-486a-a6e8-4705f47502c5",
   "metadata": {
    "deletable": false,
    "editable": false,
    "nbgrader": {
     "cell_type": "code",
     "checksum": "655ec3133e9203b0dd272e0672839cfe",
     "grade": false,
     "grade_id": "cell-b21cb34102f6b6b0",
     "locked": true,
     "schema_version": 3,
     "solution": false,
     "task": false
    }
   },
   "outputs": [],
   "source": [
    "assert my_quadratic_features(np.array([[0, 1]])).shape == (1, 6), \"For 2D data, your function should produce 6D quadratic features.\"\n",
    "assert my_quadratic_features(np.array([[0, 1], [2, 3]])).shape == (2, 6), \"Your function should produce 6D quadratic features for every data point.\"\n",
    "clear_output()"
   ]
  },
  {
   "cell_type": "markdown",
   "id": "2d6134d0-5470-4947-8806-55c6c08fd8dc",
   "metadata": {
    "deletable": false,
    "editable": false,
    "nbgrader": {
     "cell_type": "markdown",
     "checksum": "9532a4334a3c4e661d778b0736c9bdbe",
     "grade": false,
     "grade_id": "cell-3ec3ec3070603654",
     "locked": true,
     "schema_version": 3,
     "solution": false,
     "task": false
    }
   },
   "source": [
    "Run the following cell to make sure that your function produces the correct features in simple cases."
   ]
  },
  {
   "cell_type": "code",
   "execution_count": 28,
   "id": "b08c5e7d-952e-4c27-b836-e3f9462841b7",
   "metadata": {
    "deletable": false,
    "editable": false,
    "nbgrader": {
     "cell_type": "code",
     "checksum": "26fc612efd54fa96d364690cf3d2f328",
     "grade": true,
     "grade_id": "test__quadratic-features-sanity-check",
     "locked": true,
     "points": 1,
     "schema_version": 3,
     "solution": false,
     "task": false
    }
   },
   "outputs": [],
   "source": [
    "_01_quadratic_features = my_quadratic_features(np.array([[0, 1]]))\n",
    "assert {0, 1} == set(*_01_quadratic_features), \"Quadratic features of [0, 1] should include only 0s and 1s.\"\n",
    "\n",
    "_count_0 = np.count_nonzero(_01_quadratic_features == 0)\n",
    "_count_1 = np.count_nonzero(_01_quadratic_features == 1)\n",
    "assert _count_0 == 3, \"Quadratic features of [0, 1] should include 3 zeros (x_0, x_0**2, x_0*x_1)\"\n",
    "assert _count_1 == 3, \"Quadratic features of [0, 1] should include 3 ones (bias, x_1, x_1 ** 2)\"\n",
    "\n",
    "assert {1, 4, 5, 16, 20, 25} == set(*my_quadratic_features(np.array([[4, 5]]))), \"Quadratic features of [4, 5] should be any permutation of [1, 4, 5, 16, 20, 25].\"\n",
    "clear_output()"
   ]
  },
  {
   "cell_type": "code",
   "execution_count": 29,
   "id": "51ce5ee0-c974-4fbb-9359-9295cb0c6a20",
   "metadata": {
    "deletable": false,
    "editable": false,
    "nbgrader": {
     "cell_type": "code",
     "checksum": "5ccfd2afb0ddc9d396dfd476c311e373",
     "grade": true,
     "grade_id": "test__quadratic-features",
     "locked": true,
     "points": 1,
     "schema_version": 3,
     "solution": false,
     "task": false
    }
   },
   "outputs": [],
   "source": [
    "# Used for grading. Do not change."
   ]
  },
  {
   "cell_type": "markdown",
   "id": "a6a31972-e72d-40b7-815a-f8a6f9df60bb",
   "metadata": {
    "deletable": false,
    "editable": false,
    "nbgrader": {
     "cell_type": "markdown",
     "checksum": "4825049956017f60772ee1abc92f9c4d",
     "grade": false,
     "grade_id": "cell-5d8b8d87fb829c4a",
     "locked": true,
     "schema_version": 3,
     "solution": false,
     "task": false
    }
   },
   "source": [
    "__Ungraded question 1.6__ Can you come up with a function for polynomial, non-repeating polynomial features for arbitrary degrees?"
   ]
  },
  {
   "cell_type": "markdown",
   "id": "1e94abf3-8b75-4003-b253-07fb9adecbaa",
   "metadata": {
    "deletable": false,
    "editable": false,
    "nbgrader": {
     "cell_type": "markdown",
     "checksum": "39400ec2ab50b896f6300393ffd5b4b5",
     "grade": false,
     "grade_id": "cell-8c8d529aa89b3c49",
     "locked": true,
     "schema_version": 3,
     "solution": false,
     "task": false
    }
   },
   "source": [
    "__Question 1.7__ Generate polynomial features of up to degree 3 from your standardized train and test data."
   ]
  },
  {
   "cell_type": "code",
   "execution_count": 30,
   "id": "60c2c099-4758-4056-97cb-c55f6170dda0",
   "metadata": {
    "deletable": false,
    "nbgrader": {
     "cell_type": "code",
     "checksum": "e999944cd0dbb50b3bd597e382a88329",
     "grade": false,
     "grade_id": "cell-8b97f1dd0529aa83",
     "locked": false,
     "schema_version": 3,
     "solution": true,
     "task": false
    }
   },
   "outputs": [],
   "source": [
    "from sklearn.preprocessing import PolynomialFeatures\n",
    "poly = PolynomialFeatures(degree=3)\n",
    "xs_train_polynomial = poly.fit_transform(xs_train_std)\n",
    "xs_valid_polynomial = poly.transform(xs_valid_std)\n",
    "# YOUR CODE HERE\n",
    "#raise NotImplementedError()"
   ]
  },
  {
   "cell_type": "markdown",
   "id": "c6ce4ce8-7e7a-42d3-b816-1e187c2f44a2",
   "metadata": {
    "deletable": false,
    "editable": false,
    "nbgrader": {
     "cell_type": "markdown",
     "checksum": "4a7978b3f04116ffa0aadf2e343e5d50",
     "grade": false,
     "grade_id": "cell-9949b26cde094cd1",
     "locked": true,
     "schema_version": 3,
     "solution": false,
     "task": false
    }
   },
   "source": [
    "Run the following cell to make sure that the resulting polynomial features have the right shape."
   ]
  },
  {
   "cell_type": "code",
   "execution_count": 31,
   "id": "a663a531-b97a-4b10-bfcc-e645479bad5b",
   "metadata": {
    "deletable": false,
    "editable": false,
    "nbgrader": {
     "cell_type": "code",
     "checksum": "f37b3c6594c62ba71059e95c88675bb0",
     "grade": true,
     "grade_id": "test__polynomial-features-sanity-check",
     "locked": true,
     "points": 1,
     "schema_version": 3,
     "solution": false,
     "task": false
    }
   },
   "outputs": [],
   "source": [
    "assert xs_train_polynomial.shape == (35587, 2024)\n",
    "assert xs_valid_polynomial.shape == (8897, 2024)\n",
    "clear_output()"
   ]
  },
  {
   "cell_type": "code",
   "execution_count": 32,
   "id": "5eff9fbe-35dc-4e3e-82fe-9f00eaae75c6",
   "metadata": {
    "deletable": false,
    "editable": false,
    "nbgrader": {
     "cell_type": "code",
     "checksum": "94756896f5f9517405dd908d1d720c72",
     "grade": true,
     "grade_id": "test__polynomial-features",
     "locked": true,
     "points": 1,
     "schema_version": 3,
     "solution": false,
     "task": false
    }
   },
   "outputs": [],
   "source": [
    "# Used for grading. Do not change."
   ]
  },
  {
   "cell_type": "markdown",
   "id": "81db9fc9-6890-4ac6-9249-803b39afe755",
   "metadata": {
    "deletable": false,
    "editable": false,
    "nbgrader": {
     "cell_type": "markdown",
     "checksum": "1d3e80c8e60fe45128837da3e2e241a0",
     "grade": false,
     "grade_id": "cell-1c4925d55ba0952e",
     "locked": true,
     "schema_version": 3,
     "solution": false,
     "task": false
    }
   },
   "source": [
    "Now, run linear regression with polynomial features."
   ]
  },
  {
   "cell_type": "code",
   "execution_count": 33,
   "id": "ed93d119-1cb2-4e08-81c5-bf47d080a600",
   "metadata": {
    "deletable": false,
    "editable": false,
    "nbgrader": {
     "cell_type": "code",
     "checksum": "0c4aa19b391a184a96635ffed0546429",
     "grade": true,
     "grade_id": "test__linear-regression-sanity",
     "locked": true,
     "points": 1,
     "schema_version": 3,
     "solution": false,
     "task": false
    }
   },
   "outputs": [],
   "source": [
    "_my_weights = my_linear_regression(xs_train_polynomial, ys_train_std)\n",
    "assert _my_weights.shape == (2024, 1), \"Weights should have shape (D, 1).\"\n",
    "clear_output()"
   ]
  },
  {
   "cell_type": "markdown",
   "id": "673ed61f-b3da-4ee0-9f4f-6f2f9479de74",
   "metadata": {
    "deletable": false,
    "editable": false,
    "nbgrader": {
     "cell_type": "markdown",
     "checksum": "bbab2bac0aad8368cc4229703ba3dee6",
     "grade": false,
     "grade_id": "cell-b3d2fb6029187d55",
     "locked": true,
     "schema_version": 3,
     "solution": false,
     "task": false
    }
   },
   "source": [
    "Evaluate your model on the validation data. If you implemented everything correctly so far, you should now get an MSE of roughly $6.8 \\; (\\pm 1)$. Here you just have to run the cell below."
   ]
  },
  {
   "cell_type": "code",
   "execution_count": 34,
   "id": "a75b49ef-3651-4ad0-9c63-d19f99ca140f",
   "metadata": {
    "deletable": false,
    "editable": false,
    "nbgrader": {
     "cell_type": "code",
     "checksum": "69bca0549673d5557bf61ea9fbbb952b",
     "grade": false,
     "grade_id": "cell-98b1b2d6d5c2ad11",
     "locked": true,
     "schema_version": 3,
     "solution": false,
     "task": false
    }
   },
   "outputs": [
    {
     "name": "stdout",
     "output_type": "stream",
     "text": [
      "Your MSE should be roughly 6 and it is 6.97.\n"
     ]
    }
   ],
   "source": [
    "_my_y_valid_pred = xs_valid_polynomial @ _my_weights\n",
    "_my_mse = my_mse(ys_valid_std, _my_y_valid_pred)\n",
    "print(rf\"Your MSE should be roughly 6 and it is {_my_mse:.2f}.\")"
   ]
  },
  {
   "cell_type": "markdown",
   "id": "3e606e85-2eab-4e89-9aa9-55584427d3ef",
   "metadata": {
    "deletable": false,
    "editable": false,
    "nbgrader": {
     "cell_type": "markdown",
     "checksum": "85827a29c7aa2ffd9b4d5498bffe5962",
     "grade": false,
     "grade_id": "cell-bdc98486edcfc822",
     "locked": true,
     "schema_version": 3,
     "solution": false,
     "task": false
    }
   },
   "source": [
    "You can check that your model does not overfit by comparing the training and validation MSEs; they should have similar values for a model that does not overfit. For that, run the cell below."
   ]
  },
  {
   "cell_type": "code",
   "execution_count": 35,
   "id": "548171a0-64f1-4d0d-9a56-ec2a8d31a4a0",
   "metadata": {
    "deletable": false,
    "editable": false,
    "nbgrader": {
     "cell_type": "code",
     "checksum": "a257e4ecfee93652bc3c6254d13461f9",
     "grade": false,
     "grade_id": "cell-449e6d66b92953e8",
     "locked": true,
     "schema_version": 3,
     "solution": false,
     "task": false
    }
   },
   "outputs": [
    {
     "name": "stdout",
     "output_type": "stream",
     "text": [
      "Your training MSE is 5.87. Does your model overfit?\n"
     ]
    }
   ],
   "source": [
    "_my_y_train_pred = xs_train_polynomial @ _my_weights\n",
    "_my_train_mse = my_mse(ys_train_std, _my_y_train_pred)\n",
    "print(f\"Your training MSE is {_my_train_mse:.2f}. Does your model overfit?\")"
   ]
  },
  {
   "cell_type": "markdown",
   "id": "7773c612-aa94-4d12-88b8-67c1eedebdd8",
   "metadata": {
    "deletable": false,
    "editable": false,
    "nbgrader": {
     "cell_type": "markdown",
     "checksum": "ef1730bd0673926661bd0798066603f0",
     "grade": false,
     "grade_id": "cell-c2b142cb4237bef0",
     "locked": true,
     "schema_version": 3,
     "solution": false,
     "task": false
    }
   },
   "source": [
    "## Clustering\n",
    "__Question 2.1__ Implement the basic $K$-Means algorithm."
   ]
  },
  {
   "cell_type": "code",
   "execution_count": 36,
   "id": "064103a0-9f3e-4f1d-a52f-9e52b3c7e482",
   "metadata": {
    "deletable": false,
    "nbgrader": {
     "cell_type": "code",
     "checksum": "fb0c1de7ae10b31f9db2b2a8b5d38273",
     "grade": false,
     "grade_id": "cell-4db054183228df2c",
     "locked": false,
     "schema_version": 3,
     "solution": true,
     "task": false
    }
   },
   "outputs": [],
   "source": [
    "def my_kmeans(xs: np.ndarray, init_centers: np.ndarray, n_iter: int):\n",
    "    \"\"\" Runs the K-Means algorithm from a given initialization\n",
    "    \n",
    "    Args:\n",
    "        xs: A 2D numpy array of shape (N, D) containing N samples of dimension D\n",
    "        init_centers: A 2D numpy array of shape (K, D) containing the K initial cluster centers of dimension D.\n",
    "        n_iter: The number of iterations for the K-Means algorithm.\n",
    "    \n",
    "    Returns:\n",
    "        A (K, D) numpy array containing the final cluster centers.\n",
    "    \"\"\"\n",
    "    N,D = xs.shape\n",
    "    K,K_D = init_centers.shape\n",
    "    r_nk = np.zeros((N,K))\n",
    "    distance = np.zeros((N,K))\n",
    "    centers = init_centers\n",
    "    new_centers = centers\n",
    "    for i in range(n_iter):\n",
    "        centers = new_centers\n",
    "        distances = np.linalg.norm(xs[:, np.newaxis] - centers, axis=2)  \n",
    "        cluster_assignments = np.argmin(distances, axis=1)\n",
    "        for k in range(K):\n",
    "            points_in_cluster = xs[cluster_assignments == k]\n",
    "            new_centers[k] = points_in_cluster.mean(axis=0)\n",
    "        if np.all(centers == new_centers):\n",
    "            break\n",
    "    return centers\n",
    "    # YOUR CODE HERE\n",
    "    #raise NotImplementedError()"
   ]
  },
  {
   "cell_type": "markdown",
   "id": "3f1f604d-46d8-40ef-a1ee-85103c243ae2",
   "metadata": {
    "deletable": false,
    "editable": false,
    "nbgrader": {
     "cell_type": "markdown",
     "checksum": "7791494e01c16c51959a92c7f2df069b",
     "grade": false,
     "grade_id": "cell-54bdbb502fd13023",
     "locked": true,
     "schema_version": 3,
     "solution": false,
     "task": false
    }
   },
   "source": [
    "Run the following cell to make sure your algorithm produces centers of the correct shape and gives the correct result in the simplest case of 0 iterations."
   ]
  },
  {
   "cell_type": "code",
   "execution_count": 37,
   "id": "124a30b9-7f1d-4369-abc7-f6e6cd78896d",
   "metadata": {
    "deletable": false,
    "editable": false,
    "nbgrader": {
     "cell_type": "code",
     "checksum": "ad8a49c6df7c1a3d3c42f1198e525c28",
     "grade": true,
     "grade_id": "test__k-means-sanity-checks",
     "locked": true,
     "points": 1,
     "schema_version": 3,
     "solution": false,
     "task": false
    }
   },
   "outputs": [],
   "source": [
    "_example_data = np.array([\n",
    "    [0.92222276, 0.65417794, 0.81171083], [0.32436396, 0.43398054, 0.06203346],\n",
    "    [0.66190191, 0.51464817, 0.53506438], [0.52361743, 0.82799732, 0.99989914]\n",
    "])\n",
    "\n",
    "_example_centers = np.array([[0.46606325, 0.30170084, 0.3454716], [0.09386854, 0.6876939 , 0.89328422]])\n",
    "\n",
    "assert my_kmeans(_example_data, _example_centers, 3).shape == (2, 3), \"Final cluster centers must have the same shape as the initial cluster centers\"\n",
    "assert np.allclose(my_kmeans(_example_data, _example_centers, 0), _example_centers), \"For 0 iterations, the final cluster centers must be identical to the initial cluster centers\"\n",
    "clear_output()"
   ]
  },
  {
   "cell_type": "code",
   "execution_count": 38,
   "id": "dcab8aac-9558-4fbf-8722-bb4bddc20114",
   "metadata": {
    "deletable": false,
    "editable": false,
    "nbgrader": {
     "cell_type": "code",
     "checksum": "6e275c2e389e2caf3db41d3d2403fdf3",
     "grade": true,
     "grade_id": "test__k-means",
     "locked": true,
     "points": 1,
     "schema_version": 3,
     "solution": false,
     "task": false
    }
   },
   "outputs": [],
   "source": [
    "# Used for grading. Do not change.\n",
    "import sklearn.cluster"
   ]
  },
  {
   "cell_type": "markdown",
   "id": "23ada2ca-ecf2-494a-b9dc-b428600f3d3b",
   "metadata": {
    "deletable": false,
    "editable": false,
    "nbgrader": {
     "cell_type": "markdown",
     "checksum": "c098daace64f8705ec947e548d7225c2",
     "grade": false,
     "grade_id": "cell-d36ae52c783e3704",
     "locked": true,
     "schema_version": 3,
     "solution": false,
     "task": false
    }
   },
   "source": [
    "__Question 2.2__ Generate random data from four gaussian distributions."
   ]
  },
  {
   "cell_type": "code",
   "execution_count": 39,
   "id": "b0e237b1-18a9-442d-8a1b-bc24042fee32",
   "metadata": {
    "deletable": false,
    "nbgrader": {
     "cell_type": "code",
     "checksum": "4eb67e31e51b692b9028a551873376d7",
     "grade": false,
     "grade_id": "cell-861d1953849acf6a",
     "locked": false,
     "schema_version": 3,
     "solution": true,
     "task": false
    }
   },
   "outputs": [],
   "source": [
    "xs_cluster_test = []\n",
    "means = [(-2,2),(-2,-2),(2,-2),(2,2)]\n",
    "covariances = [0.2 * np.eye(2), 0.2 * np.eye(2), 0.5 * np.eye(2), 0.5 * np.eye(2)]\n",
    "probabilities = [0.3, 0.2, 0.4, 0.1]\n",
    "n_samples = 100  \n",
    "xs_cluster_test\n",
    "\n",
    "for _ in range(n_samples):\n",
    "    k = np.random.choice([0, 1, 2, 3], p=probabilities)\n",
    "    mean = means[k]\n",
    "    cov = covariances[k]\n",
    "    sample = np.random.multivariate_normal(mean, cov)\n",
    "    \n",
    "    xs_cluster_test.append(sample)\n",
    "\n",
    "xs_cluster_test = np.array(xs_cluster_test)\n",
    "\n",
    "# YOUR CODE HERE\n",
    "#raise NotImplementedError()"
   ]
  },
  {
   "cell_type": "markdown",
   "id": "3f89d245-55bd-45e7-9895-cd183a70a653",
   "metadata": {
    "deletable": false,
    "editable": false,
    "nbgrader": {
     "cell_type": "markdown",
     "checksum": "3f6079e6f940ebbfcdb7091679b7d02b",
     "grade": false,
     "grade_id": "cell-2b136b6a3dbce72f",
     "locked": true,
     "schema_version": 3,
     "solution": false,
     "task": false
    }
   },
   "source": [
    "Run the following cell to make sure your data has the correct shape."
   ]
  },
  {
   "cell_type": "code",
   "execution_count": 40,
   "id": "6c31bf32-0822-470f-a090-21957068336a",
   "metadata": {
    "deletable": false,
    "editable": false,
    "nbgrader": {
     "cell_type": "code",
     "checksum": "2faf344ebdd8de0218b905f20ca92f63",
     "grade": true,
     "grade_id": "test__cluster-sanity-check",
     "locked": true,
     "points": 1,
     "schema_version": 3,
     "solution": false,
     "task": false
    }
   },
   "outputs": [],
   "source": [
    "assert xs_cluster_test.shape == (100, 2), \"You should get 100 2D data points\"\n",
    "clear_output()"
   ]
  },
  {
   "cell_type": "markdown",
   "id": "4d039aa0-b1e2-4aa5-af48-8dd5c9b96539",
   "metadata": {
    "deletable": false,
    "editable": false,
    "nbgrader": {
     "cell_type": "markdown",
     "checksum": "d7eb04813f98027a70cb16fe8473ef54",
     "grade": false,
     "grade_id": "cell-acc3faa1679c764e",
     "locked": true,
     "schema_version": 3,
     "solution": false,
     "task": false
    }
   },
   "source": [
    "__Question 2.3__ Run your $K$-Means algorithm on the test data for $K=2,3,4,5$ clusters and plot the final cluster centers."
   ]
  },
  {
   "cell_type": "code",
   "execution_count": 41,
   "id": "fe4bdf9e-39fd-407d-b3d1-b5ac537ab9c1",
   "metadata": {
    "deletable": false,
    "nbgrader": {
     "cell_type": "code",
     "checksum": "d3b09e52097a04274c07daaae33b4d84",
     "grade": false,
     "grade_id": "cell-447cb240a7b7b49b",
     "locked": false,
     "schema_version": 3,
     "solution": true,
     "task": false
    }
   },
   "outputs": [],
   "source": [
    "import matplotlib.pyplot as plt\n",
    "from sklearn.cluster import kmeans_plusplus\n",
    "\n",
    "def my_plot(xs: np.ndarray):\n",
    "    \"\"\" Plots the K-Means result for different numbers of cluster given 2-dimensional data.\n",
    "    \n",
    "    Notes:\n",
    "        Use the `kmeans_plusplus` function to get initial cluster centers.\n",
    "    \n",
    "    Args:\n",
    "        xs: A 2D numpy array of shape (N, 2) containing N 2-dimensional samples.\n",
    "    \"\"\"\n",
    "    \n",
    "    plt.figure(figsize=(10, 10))\n",
    "    n_clusters = [2, 3, 4, 5]  # different numbers of clusters\n",
    "    \n",
    "    # iterate over each cluster n in `n_clusters` with index i\n",
    "    for i, n in enumerate(n_clusters):\n",
    "        plt.subplot(2, 2, i + 1)\n",
    "        # YOUR CODE HERE\n",
    "        initial_centers, _ = kmeans_plusplus(xs, n_clusters=n_clusters[i], random_state=42)\n",
    "        centers = my_kmeans(xs,initial_centers,6)\n",
    "        plt.scatter(xs[:,0],xs[:,1], c='blue')\n",
    "        plt.scatter(centers[:,0],centers[:,1], c='red')\n",
    "        "
   ]
  },
  {
   "cell_type": "markdown",
   "id": "7cb9538d-332a-4cbb-9802-c75140e74fb5",
   "metadata": {
    "deletable": false,
    "editable": false,
    "nbgrader": {
     "cell_type": "markdown",
     "checksum": "8378d596cf39fd53f2c4d23bd42b57b4",
     "grade": false,
     "grade_id": "cell-305e4a0971e2aa95",
     "locked": true,
     "schema_version": 3,
     "solution": false,
     "task": false
    }
   },
   "source": [
    "Run the cell below to plot the data and the centers you get using your randomly generated data. You should get a result that looks conceptually similar to the plots that you find in the assignment PDF."
   ]
  },
  {
   "cell_type": "code",
   "execution_count": 42,
   "id": "5a61c54e-b7f5-4bba-87f4-3876a55b4afb",
   "metadata": {
    "deletable": false,
    "editable": false,
    "nbgrader": {
     "cell_type": "code",
     "checksum": "9983d69576c6bbdb1b465a6de09e4e36",
     "grade": false,
     "grade_id": "cell-137b4ba1c2aede3b",
     "locked": true,
     "schema_version": 3,
     "solution": false,
     "task": false
    }
   },
   "outputs": [
    {
     "data": {
      "image/png": "[encoded data removed]",
      "text/plain": [
       "<Figure size 1000x1000 with 4 Axes>"
      ]
     },
     "metadata": {},
     "output_type": "display_data"
    }
   ],
   "source": [
    "my_plot(xs_cluster_test)"
   ]
  },
  {
   "cell_type": "code",
   "execution_count": 43,
   "id": "ecdf138b",
   "metadata": {},
   "outputs": [
    {
     "name": "stdout",
     "output_type": "stream",
     "text": [
      "Your MSE should be roughly 6 and it is 6.97.\n"
     ]
    }
   ],
   "source": [
    "_my_y_valid_pred = xs_valid_polynomial @ _my_weights\n",
    "_my_mse = my_mse(ys_valid_std, _my_y_valid_pred)\n",
    "print(rf\"Your MSE should be roughly 6 and it is {_my_mse:.2f}.\")"
   ]
  },
  {
   "cell_type": "markdown",
   "id": "a57b9103-4322-4472-aea5-82196be01856",
   "metadata": {
    "deletable": false,
    "editable": false,
    "nbgrader": {
     "cell_type": "markdown",
     "checksum": "9c785d96251077273ab8a8d286b58292",
     "grade": false,
     "grade_id": "cell-51690b012fc66943",
     "locked": true,
     "schema_version": 3,
     "solution": false,
     "task": false
    }
   },
   "source": [
    "## Radial Basis Functions Network\n",
    "__Question 3.1__ Find $K=100$ cluster centers using $K$-Means."
   ]
  },
  {
   "cell_type": "code",
   "execution_count": 44,
   "id": "7ca782b9-b5b8-42ea-be7a-24b108bb6f8e",
   "metadata": {
    "deletable": false,
    "nbgrader": {
     "cell_type": "code",
     "checksum": "f0117d8212a2a5aa2dd7bbe655e72afc",
     "grade": false,
     "grade_id": "cell-72f0fd08e935f613",
     "locked": false,
     "schema_version": 3,
     "solution": true,
     "task": false
    }
   },
   "outputs": [],
   "source": [
    "from sklearn.cluster import KMeans\n",
    "\n",
    "def find_centers(xs: np.ndarray, n_clusters: int=100) -> np.ndarray:\n",
    "    \"\"\" Computes KMeans cluster centers for the given data.\n",
    "    \n",
    "    Even though we will use this function to compute centers for our 21-dimensional data points,\n",
    "    this function should work for arbitrary dimensions.\n",
    "    \n",
    "    Notes:\n",
    "        Use the predefined KMeans algorithm provided by sklearn.\n",
    "        \n",
    "    Args:\n",
    "        xs: A 2D numpy array of shape (N, D) containing N D-dimensional samples.\n",
    "        n_clusters: Number of clusters to use.\n",
    "    \n",
    "    Returns:\n",
    "        n_clusters D-dimensional cluster centers as a numpy array of shape (n_clusters, D).\n",
    "    \"\"\"\n",
    "    \n",
    "    # YOUR CODE HERE\n",
    "    kmeans = KMeans(n_clusters=n_clusters, init='k-means++', n_init=10, max_iter=50, random_state=42)\n",
    "    kmeans.fit(xs)\n",
    "    return kmeans.cluster_centers_\n",
    "    raise NotImplementedError()\n",
    "    raise NotImplementedError()"
   ]
  },
  {
   "cell_type": "markdown",
   "id": "8c19f641-8bbd-466c-90fe-3c4ffe49b9d4",
   "metadata": {
    "deletable": false,
    "editable": false,
    "nbgrader": {
     "cell_type": "markdown",
     "checksum": "adb53db00b99ace34e100a6b9f069f03",
     "grade": false,
     "grade_id": "cell-2ea0e3fe902366ff",
     "locked": true,
     "schema_version": 3,
     "solution": false,
     "task": false
    }
   },
   "source": [
    "Run the following cell to make sure you get the correct number of centers with the correct dimensionality."
   ]
  },
  {
   "cell_type": "code",
   "execution_count": 45,
   "id": "55ed31f9-8037-4ee9-9296-812023059aa8",
   "metadata": {
    "deletable": false,
    "editable": false,
    "nbgrader": {
     "cell_type": "code",
     "checksum": "deede114a018f0cd399fe4e757476248",
     "grade": true,
     "grade_id": "test__rbf-sanity-check",
     "locked": true,
     "points": 1,
     "schema_version": 3,
     "solution": false,
     "task": false
    }
   },
   "outputs": [],
   "source": [
    "xs_centers = find_centers(xs_train_std)  # This 100x21 numpy array should contain the cluster centers\n",
    "assert xs_centers.shape == (100, 21), \"You should get 100 clusters around 21-dimensional centers.\"\n",
    "clear_output()"
   ]
  },
  {
   "cell_type": "markdown",
   "id": "ad71071c-67b5-4b36-9513-8c870673a7b4",
   "metadata": {
    "deletable": false,
    "editable": false,
    "nbgrader": {
     "cell_type": "markdown",
     "checksum": "326103e5ff03ceb079ffb5a3d8be1378",
     "grade": false,
     "grade_id": "cell-e5c937400c8692ff",
     "locked": true,
     "schema_version": 3,
     "solution": false,
     "task": false
    }
   },
   "source": [
    "__Question 3.2__ Implement the element-wise Gaussian radial function."
   ]
  },
  {
   "cell_type": "code",
   "execution_count": 46,
   "id": "db04b479-b3b2-47eb-b3e6-e0ebc292d2cc",
   "metadata": {
    "deletable": false,
    "nbgrader": {
     "cell_type": "code",
     "checksum": "d3ef758dcae6b16607c17efa943df939",
     "grade": false,
     "grade_id": "cell-14619a1cb68be7c4",
     "locked": false,
     "schema_version": 3,
     "solution": true,
     "task": false
    }
   },
   "outputs": [],
   "source": [
    "def my_gaussian(r: np.ndarray, sigma: float) -> np.ndarray:\n",
    "    \"\"\" Gaussian probability density function.\n",
    "    \n",
    "    The function is applied element-wise.\n",
    "    \n",
    "    Args:\n",
    "        r: A numpy array of arbitrary shape to apply the gaussian to (element-wise).\n",
    "        sigma: Variance used for normalization.\n",
    "        \n",
    "    Returns:\n",
    "        A numpy array of the same shape as the input r to which the gaussian was applied.\n",
    "    \"\"\"\n",
    "    # YOUR CODE HERE ????(1/np.sqrt(2*np.pi*(sigma**2)))* \n",
    "    gaussian = (1/np.sqrt(2*np.pi*(sigma**2)))* np.exp(-(r**2)/(2*(sigma**2)))\n",
    "    return gaussian\n",
    "\n",
    "\n",
    "\n",
    "\n",
    "\n",
    "\n",
    "   # raise NotImplementedError()"
   ]
  },
  {
   "cell_type": "markdown",
   "id": "e4589391-0fd9-4dbf-87b6-9f81204e76d5",
   "metadata": {
    "deletable": false,
    "editable": false,
    "nbgrader": {
     "cell_type": "markdown",
     "checksum": "b6e0b72176ef93a6f89b7cea3282a5ed",
     "grade": false,
     "grade_id": "cell-1077b54baad3462e",
     "locked": true,
     "schema_version": 3,
     "solution": false,
     "task": false
    }
   },
   "source": [
    "Use the following check to make sure you apply the gaussian element-wise to the input data."
   ]
  },
  {
   "cell_type": "code",
   "execution_count": 47,
   "id": "ea80e647-f059-48f2-9bc9-c0b895e84ed5",
   "metadata": {
    "deletable": false,
    "editable": false,
    "nbgrader": {
     "cell_type": "code",
     "checksum": "e65e4aa8186ae17fd979236c7b493024",
     "grade": true,
     "grade_id": "test__gaussian-sanity-check",
     "locked": true,
     "points": 1,
     "schema_version": 3,
     "solution": false,
     "task": false
    }
   },
   "outputs": [],
   "source": [
    "_test_data = np.array([[0, 1, 2, 3, 4], [5, 6, 7, 8, 9]])\n",
    "assert my_gaussian(_test_data, 1).shape == (2, 5), \"The Gaussian should not change the shape of the data you apply it to as it must be applied element-wise.\"\n",
    "clear_output()"
   ]
  },
  {
   "cell_type": "code",
   "execution_count": 48,
   "id": "2ca801e6-f9c4-4e13-962a-cdbd99ce6aae",
   "metadata": {
    "deletable": false,
    "editable": false,
    "nbgrader": {
     "cell_type": "code",
     "checksum": "470b47f096ca2ba8e9c4657135568a67",
     "grade": true,
     "grade_id": "test__gaussian",
     "locked": true,
     "points": 1,
     "schema_version": 3,
     "solution": false,
     "task": false
    }
   },
   "outputs": [],
   "source": [
    "# Used for grading. Do not change."
   ]
  },
  {
   "cell_type": "markdown",
   "id": "69331b8c-85bc-49d2-9474-79e0063509b0",
   "metadata": {
    "deletable": false,
    "editable": false,
    "nbgrader": {
     "cell_type": "markdown",
     "checksum": "b28541e66fae32535a8f51bda3e2a058",
     "grade": false,
     "grade_id": "cell-bdcedd90fe032b39",
     "locked": true,
     "schema_version": 3,
     "solution": false,
     "task": false
    }
   },
   "source": [
    "__Question 3.3__ Implement the function `compute_rbf_features`, which takes as input the standardized data, cluster centers, and scale $\\sigma$ and outputs the feature matrix (with a bias term)."
   ]
  },
  {
   "cell_type": "code",
   "execution_count": 49,
   "id": "bcc62e84-f45e-4ee9-8c91-f2467a388777",
   "metadata": {
    "deletable": false,
    "nbgrader": {
     "cell_type": "code",
     "checksum": "2f73cc3942535724b4a2810e6621074e",
     "grade": false,
     "grade_id": "cell-e4a346b87efb95d7",
     "locked": false,
     "schema_version": 3,
     "solution": true,
     "task": false
    }
   },
   "outputs": [],
   "source": [
    "def compute_rbf_features(xs: np.ndarray, centers: np.ndarray, sigma: float) -> np.ndarray:\n",
    "    \"\"\" Computes the feature matrix for the data xs with the given cluster centers and scale.\n",
    "    \n",
    "    For the distance, use the euclidean norm.\n",
    "    Your transformation should not change the order of data points or centers.\n",
    "    \n",
    "    Notes:\n",
    "        You may use np.linalg.norm(x) to get the norm of a vector or matrix x.\n",
    "        To get the norm along a specified axis a, use np.linalg.norm(x, axis=a)\n",
    "        \n",
    "    Args:\n",
    "        xs: 2D numpy array of shape (N, D) containing N D-dimensional data points.\n",
    "        centers: 2D numpy array of shape (K, D) containing K D-dimensional centers.\n",
    "        sigma: Variance used for normalization.\n",
    "        \n",
    "    Returns:\n",
    "        A 2D numpy array of shape (N, K) containing the transformations for each pair of data points and cluster centers.\n",
    "    \"\"\"\n",
    "    N, D = xs.shape\n",
    "    K, K_D = centers.shape\n",
    "    zeros_row = np.zeros(centers.shape[1])\n",
    "    r = np.linalg.norm(xs[:, np.newaxis] - centers, axis=2)\n",
    "    feature = my_gaussian(r, sigma)\n",
    "    bias = np.ones((N,1))\n",
    "    feature = np.hstack((bias, feature))\n",
    "    return feature\n",
    "    \n",
    "\n",
    "\n",
    "\n",
    "    # YOUR CODE HERE\n",
    "   # raise NotImplementedError()"
   ]
  },
  {
   "cell_type": "markdown",
   "id": "5964d935-3b30-40ec-871a-f4aa73ca9592",
   "metadata": {
    "deletable": false,
    "editable": false,
    "nbgrader": {
     "cell_type": "markdown",
     "checksum": "359f28b8f85c08d2820471043cbc5f6f",
     "grade": false,
     "grade_id": "cell-64800bb801fefa14",
     "locked": true,
     "schema_version": 3,
     "solution": false,
     "task": false
    }
   },
   "source": [
    "Run the following cell to make sure your transformation produces the correct result in simple cases."
   ]
  },
  {
   "cell_type": "code",
   "execution_count": 50,
   "id": "14bc062d-0f9b-44b7-901f-1e58f5b7dd55",
   "metadata": {
    "deletable": false,
    "editable": false,
    "nbgrader": {
     "cell_type": "code",
     "checksum": "14666619921b980e1ccc7e13682556a5",
     "grade": true,
     "grade_id": "test__rbf-features-sanity-check",
     "locked": true,
     "points": 1,
     "schema_version": 3,
     "solution": false,
     "task": false
    }
   },
   "outputs": [],
   "source": [
    "_test_data = np.array([[0, 1, 2, 3, 4], [5, 6, 7, 8, 9]])\n",
    "_test_centers_1 = np.array([[0, 0, 0, 0, 0.]])\n",
    "_test_centers_2 = np.array([[0, 0, 0, 0, 0.], [5, 5, 5, 5, 5.]])\n",
    "\n",
    "_message = \"Your transformation should output an array of shape (N, M+1), where N is the number of points and M is the number of cluster centers.\"\n",
    "assert compute_rbf_features(_test_data, _test_centers_1, 1).shape == (2, 2), _message\n",
    "assert compute_rbf_features(_test_data, _test_centers_2, 1).shape == (2, 3), _message\n",
    "\n",
    "_features_far_data = compute_rbf_features(np.array([[0, 0, 0]]), np.array([[100, 200, 300]]), 1)\n",
    "_expected_output = np.array([1., 0.])\n",
    "assert np.allclose(_features_far_data, _expected_output) or np.allclose(_features_far_data[::-1], _expected_output), \"For a data point this far from the center, the transformation should be roughly [1., 0.]\"\n",
    "\n",
    "clear_output()"
   ]
  },
  {
   "cell_type": "code",
   "execution_count": 51,
   "id": "e1f0285b-7c40-47b3-b22e-266b2565f33a",
   "metadata": {
    "deletable": false,
    "editable": false,
    "nbgrader": {
     "cell_type": "code",
     "checksum": "239bda433501791843d8f7d798d0922b",
     "grade": true,
     "grade_id": "test__rbf-features-1",
     "locked": true,
     "points": 1,
     "schema_version": 3,
     "solution": false,
     "task": false
    }
   },
   "outputs": [],
   "source": [
    "# Used for grading. Do not change."
   ]
  },
  {
   "cell_type": "code",
   "execution_count": 52,
   "id": "fc6c6cbd-2669-4eeb-9747-0a162cd938a8",
   "metadata": {
    "deletable": false,
    "editable": false,
    "nbgrader": {
     "cell_type": "code",
     "checksum": "04faf0cf85840a7cd4d94fdbd4bd0aef",
     "grade": true,
     "grade_id": "test__rbf-features-2",
     "locked": true,
     "points": 1,
     "schema_version": 3,
     "solution": false,
     "task": false
    }
   },
   "outputs": [],
   "source": [
    "# Used for grading. Do not change."
   ]
  },
  {
   "cell_type": "markdown",
   "id": "ce509536-fde5-4cec-9c3a-8d4acab70b48",
   "metadata": {
    "deletable": false,
    "editable": false,
    "nbgrader": {
     "cell_type": "markdown",
     "checksum": "5186c7ab4e434b4934c8826c4eec233c",
     "grade": false,
     "grade_id": "cell-3d28365205a3bc61",
     "locked": true,
     "schema_version": 3,
     "solution": false,
     "task": false
    }
   },
   "source": [
    "__Question 3.4__ Run simple linear regression on the transformed data and evaluate it on both the training and validation sets."
   ]
  },
  {
   "cell_type": "code",
   "execution_count": 53,
   "id": "8133e0a7-c781-47b5-9c6b-adcd613be541",
   "metadata": {
    "deletable": false,
    "nbgrader": {
     "cell_type": "code",
     "checksum": "0deab1e3cce53f65b79b0b074dc87845",
     "grade": false,
     "grade_id": "cell-5188ad1251366bf9",
     "locked": false,
     "schema_version": 3,
     "solution": true,
     "task": false
    }
   },
   "outputs": [],
   "source": [
    "xs_train_gauss = compute_rbf_features(xs_train_std, xs_centers, 25)\n",
    "_my_weights = my_linear_regression(xs_train_gauss, ys_train_std)\n",
    "\n",
    "ys_train_pred = xs_train_gauss@_my_weights\n",
    "xs_valid_gauss = compute_rbf_features(xs_valid_std, xs_centers, 25)\n",
    "ys_valid_pred = xs_valid_gauss@_my_weights\n",
    "# YOUR CODE HERE\n",
    "#raise NotImplementedError()"
   ]
  },
  {
   "cell_type": "markdown",
   "id": "2cb0ddc8-3a85-4160-814d-37c5eb0db578",
   "metadata": {
    "deletable": false,
    "editable": false,
    "nbgrader": {
     "cell_type": "markdown",
     "checksum": "cb1498becc6b05a9ca4f7c882ed0a6c4",
     "grade": false,
     "grade_id": "cell-2990b9ea3f75d118",
     "locked": true,
     "schema_version": 3,
     "solution": false,
     "task": false
    }
   },
   "source": [
    "If you implemented everything correctly so far, you should now get an MSE of roughly $18.3$. You can check this by running the cell below."
   ]
  },
  {
   "cell_type": "code",
   "execution_count": 54,
   "id": "d865a1a0-0141-4bea-b82f-7e3d84fbc0fe",
   "metadata": {
    "deletable": false,
    "editable": false,
    "nbgrader": {
     "cell_type": "code",
     "checksum": "dd3eb9f09f4e5969aecc76ff4b3b0da1",
     "grade": false,
     "grade_id": "cell-6f53561441b9124d",
     "locked": true,
     "schema_version": 3,
     "solution": false,
     "task": false
    }
   },
   "outputs": [
    {
     "name": "stdout",
     "output_type": "stream",
     "text": [
      "Your validation MSE should be roughly 18.3 and it is 18.92\n"
     ]
    }
   ],
   "source": [
    "_mse = my_mse(ys_valid_std, ys_valid_pred)\n",
    "print(f\"Your validation MSE should be roughly 18.3 and it is {_mse:.2f}\")"
   ]
  },
  {
   "cell_type": "code",
   "execution_count": null,
   "id": "8e720f85-5503-4db4-89ec-13da3feeb2e8",
   "metadata": {
    "deletable": false,
    "editable": false,
    "nbgrader": {
     "cell_type": "code",
     "checksum": "c2f57ae368085e8704382f358417df30",
     "grade": true,
     "grade_id": "test__mse",
     "locked": true,
     "points": 1,
     "schema_version": 3,
     "solution": false,
     "task": false
    }
   },
   "outputs": [],
   "source": []
  },
  {
   "cell_type": "markdown",
   "id": "a49ef69f-6c55-4300-be1f-e763dd5620f9",
   "metadata": {
    "deletable": false,
    "editable": false,
    "nbgrader": {
     "cell_type": "markdown",
     "checksum": "89719bbeb089301d6c990505fce1a8d2",
     "grade": false,
     "grade_id": "cell-d4ac4a052feb64ac",
     "locked": true,
     "schema_version": 3,
     "solution": false,
     "task": false
    }
   },
   "source": [
    "You can check if your model does not overfit by comparing the training and validation MSEs; they should have similar values for a model that does not overfit. For that, run the cell below."
   ]
  },
  {
   "cell_type": "code",
   "execution_count": 55,
   "id": "43c332b7-d658-4735-8760-b622d3956db5",
   "metadata": {
    "deletable": false,
    "editable": false,
    "nbgrader": {
     "cell_type": "code",
     "checksum": "cfd628823e2e24e59d037cb54766568d",
     "grade": false,
     "grade_id": "cell-9b8edda96ba6d2dd",
     "locked": true,
     "schema_version": 3,
     "solution": false,
     "task": false
    }
   },
   "outputs": [
    {
     "name": "stdout",
     "output_type": "stream",
     "text": [
      "Your training MSE is 18.15. Does your model overfit?\n"
     ]
    }
   ],
   "source": [
    "_my_train_mse = my_mse(ys_train_std, ys_train_pred)\n",
    "print(f\"Your training MSE is {_my_train_mse:.2f}. Does your model overfit?\")"
   ]
  },
  {
   "cell_type": "markdown",
   "id": "689030ac-aeaa-4957-9b3c-cf96c1c663c6",
   "metadata": {
    "deletable": false,
    "editable": false,
    "nbgrader": {
     "cell_type": "markdown",
     "checksum": "b0954ac1f7b35368ca58322092e10a1e",
     "grade": false,
     "grade_id": "cell-fa6a4fd7f6ebe733",
     "locked": true,
     "schema_version": 3,
     "solution": false,
     "task": false
    }
   },
   "source": [
    "__Ungraded question 3.5__ Can you improve the performance of the RBF network?"
   ]
  },
  {
   "cell_type": "markdown",
   "id": "9b03d316-c4d3-46b8-9fb6-7afcb7d8bdfa",
   "metadata": {
    "deletable": false,
    "editable": false,
    "nbgrader": {
     "cell_type": "markdown",
     "checksum": "8366b2bd46afa1c036b4068a4cb5a0fe",
     "grade": false,
     "grade_id": "cell-9c7e2a46caa8a2f7",
     "locked": true,
     "schema_version": 3,
     "solution": false,
     "task": false
    }
   },
   "source": [
    "__Question 3.6__ Evaluate your final model on the test data"
   ]
  },
  {
   "cell_type": "code",
   "execution_count": 56,
   "id": "8d0845b9-60e5-4c50-9faa-52f935ee7b8e",
   "metadata": {
    "deletable": false,
    "nbgrader": {
     "cell_type": "code",
     "checksum": "47f50d7989d762ab18d73964efd8bccf",
     "grade": false,
     "grade_id": "cell-36de4e6d7f08164e",
     "locked": false,
     "schema_version": 3,
     "solution": true,
     "task": false
    }
   },
   "outputs": [
    {
     "name": "stdout",
     "output_type": "stream",
     "text": [
      "Your model achieved an MSE of 17.81 on the test set.\n"
     ]
    }
   ],
   "source": [
    "# This should contain the predictions on the test data set\n",
    "xs_test_gauss = compute_rbf_features(xs_test_std, xs_centers, 25)\n",
    "ys_pred_test =  xs_test_gauss@_my_weights\n",
    "\n",
    "\n",
    "# This should contain the resulting MSE on the test data\n",
    "mse_test = my_mse(ys_test_std, ys_pred_test)\n",
    "# YOUR CODE HERE\n",
    "#raise NotImplementedError()\n",
    "\n",
    "print(f\"Your model achieved an MSE of {mse_test:.2f} on the test set.\")"
   ]
  },
  {
   "cell_type": "markdown",
   "id": "59f319c4-0a24-4133-a224-07362a6b39d7",
   "metadata": {
    "deletable": false,
    "editable": false,
    "nbgrader": {
     "cell_type": "markdown",
     "checksum": "0972af3f399db3f0bbf52021ff78fb86",
     "grade": false,
     "grade_id": "cell-5ec53c81a373ffc8",
     "locked": true,
     "schema_version": 3,
     "solution": false,
     "task": false
    }
   },
   "source": [
    "Use the following check to make sure your predictions have the correct shape."
   ]
  },
  {
   "cell_type": "code",
   "execution_count": 57,
   "id": "5c059a88-79b1-47e0-9d50-47b6b5819809",
   "metadata": {
    "deletable": false,
    "editable": false,
    "nbgrader": {
     "cell_type": "code",
     "checksum": "298ba231e56cdad8bd82c14f3289dbd8",
     "grade": true,
     "grade_id": "test__final-predictions",
     "locked": true,
     "points": 1,
     "schema_version": 3,
     "solution": false,
     "task": false
    }
   },
   "outputs": [],
   "source": [
    "assert ys_pred_test.shape == ys_test_std.shape\n",
    "clear_output()"
   ]
  }
 ],
 "metadata": {
  "kernelspec": {
   "display_name": "Python 3",
   "language": "python",
   "name": "python3"
  },
  "language_info": {
   "codemirror_mode": {
    "name": "ipython",
    "version": 3
   },
   "file_extension": ".py",
   "mimetype": "text/x-python",
   "name": "python",
   "nbconvert_exporter": "python",
   "pygments_lexer": "ipython3",
   "version": "3.11.9"
  }
 },
 "nbformat": 4,
 "nbformat_minor": 5
}
